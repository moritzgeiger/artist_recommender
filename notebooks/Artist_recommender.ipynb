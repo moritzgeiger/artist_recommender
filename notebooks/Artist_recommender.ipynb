{
 "cells": [
  {
   "cell_type": "markdown",
   "id": "001895b8",
   "metadata": {},
   "source": [
    "# Spotify KNeighbors Analysis"
   ]
  },
  {
   "cell_type": "markdown",
   "id": "f30925ae",
   "metadata": {},
   "source": [
    "# Imports"
   ]
  },
  {
   "cell_type": "code",
   "execution_count": 1,
   "id": "059c75d9",
   "metadata": {
    "ExecuteTime": {
     "end_time": "2021-04-29T17:25:27.514725Z",
     "start_time": "2021-04-29T17:25:27.209396Z"
    }
   },
   "outputs": [],
   "source": [
    "import pandas as pd\n",
    "from sklearn.neighbors import KNeighborsRegressor\n"
   ]
  },
  {
   "cell_type": "markdown",
   "id": "58f7a8ce",
   "metadata": {},
   "source": [
    "# Data"
   ]
  },
  {
   "cell_type": "markdown",
   "id": "73fc6866",
   "metadata": {},
   "source": [
    "The data set I am working on is provided on [Kaggle](https://www.kaggle.com/yamaerenay/spotify-dataset-19212020-160k-tracks?select=data_by_artist_o.csv).<br>\n",
    "- It has a total of ~29,000 artists and their audio features.\n",
    "- It is a grouped data set from a bigger set of tracks. The features are aggregated by mean and mode. "
   ]
  },
  {
   "cell_type": "code",
   "execution_count": 3,
   "id": "3475f465",
   "metadata": {
    "ExecuteTime": {
     "end_time": "2021-04-29T17:43:57.525439Z",
     "start_time": "2021-04-29T17:43:57.421431Z"
    }
   },
   "outputs": [
    {
     "data": {
      "text/plain": [
       "(28680, 16)"
      ]
     },
     "execution_count": 3,
     "metadata": {},
     "output_type": "execute_result"
    }
   ],
   "source": [
    "df = pd.read_csv('raw_data/data_by_artist_o.csv')\n",
    "df.shape"
   ]
  },
  {
   "cell_type": "code",
   "execution_count": 6,
   "id": "9c5400e7",
   "metadata": {
    "ExecuteTime": {
     "end_time": "2021-04-29T17:46:30.820241Z",
     "start_time": "2021-04-29T17:46:30.786140Z"
    }
   },
   "outputs": [
    {
     "data": {
      "text/html": [
       "<div>\n",
       "<style scoped>\n",
       "    .dataframe tbody tr th:only-of-type {\n",
       "        vertical-align: middle;\n",
       "    }\n",
       "\n",
       "    .dataframe tbody tr th {\n",
       "        vertical-align: top;\n",
       "    }\n",
       "\n",
       "    .dataframe thead th {\n",
       "        text-align: right;\n",
       "    }\n",
       "</style>\n",
       "<table border=\"1\" class=\"dataframe\">\n",
       "  <thead>\n",
       "    <tr style=\"text-align: right;\">\n",
       "      <th></th>\n",
       "      <th>genres</th>\n",
       "      <th>artists</th>\n",
       "      <th>acousticness</th>\n",
       "      <th>danceability</th>\n",
       "      <th>duration_ms</th>\n",
       "      <th>energy</th>\n",
       "      <th>instrumentalness</th>\n",
       "      <th>liveness</th>\n",
       "      <th>loudness</th>\n",
       "      <th>speechiness</th>\n",
       "      <th>tempo</th>\n",
       "      <th>valence</th>\n",
       "      <th>popularity</th>\n",
       "      <th>key</th>\n",
       "      <th>mode</th>\n",
       "      <th>count</th>\n",
       "    </tr>\n",
       "  </thead>\n",
       "  <tbody>\n",
       "    <tr>\n",
       "      <th>25421</th>\n",
       "      <td>['alternative rock', 'art punk', 'dance rock',...</td>\n",
       "      <td>The Raincoats</td>\n",
       "      <td>0.319240</td>\n",
       "      <td>0.520750</td>\n",
       "      <td>191306.750000</td>\n",
       "      <td>0.725000</td>\n",
       "      <td>2.535675e-01</td>\n",
       "      <td>0.206550</td>\n",
       "      <td>-8.326875</td>\n",
       "      <td>0.111437</td>\n",
       "      <td>119.134500</td>\n",
       "      <td>0.643500</td>\n",
       "      <td>32.000000</td>\n",
       "      <td>9</td>\n",
       "      <td>1</td>\n",
       "      <td>16</td>\n",
       "    </tr>\n",
       "    <tr>\n",
       "      <th>11901</th>\n",
       "      <td>[]</td>\n",
       "      <td>Jim Steinman</td>\n",
       "      <td>0.151000</td>\n",
       "      <td>0.628000</td>\n",
       "      <td>387267.000000</td>\n",
       "      <td>0.637000</td>\n",
       "      <td>1.090000e-03</td>\n",
       "      <td>0.262000</td>\n",
       "      <td>-13.175000</td>\n",
       "      <td>0.029400</td>\n",
       "      <td>110.447000</td>\n",
       "      <td>0.755000</td>\n",
       "      <td>37.000000</td>\n",
       "      <td>0</td>\n",
       "      <td>1</td>\n",
       "      <td>2</td>\n",
       "    </tr>\n",
       "    <tr>\n",
       "      <th>20641</th>\n",
       "      <td>[]</td>\n",
       "      <td>Reinhold Moritzewitsch Glière</td>\n",
       "      <td>0.812000</td>\n",
       "      <td>0.264000</td>\n",
       "      <td>202693.000000</td>\n",
       "      <td>0.459000</td>\n",
       "      <td>7.940000e-01</td>\n",
       "      <td>0.125000</td>\n",
       "      <td>-12.049000</td>\n",
       "      <td>0.037900</td>\n",
       "      <td>87.595000</td>\n",
       "      <td>0.571000</td>\n",
       "      <td>23.000000</td>\n",
       "      <td>2</td>\n",
       "      <td>0</td>\n",
       "      <td>1</td>\n",
       "    </tr>\n",
       "    <tr>\n",
       "      <th>22268</th>\n",
       "      <td>['arabic hip hop', 'middle east hip hop', 'pal...</td>\n",
       "      <td>Shadia</td>\n",
       "      <td>0.780000</td>\n",
       "      <td>0.351000</td>\n",
       "      <td>493796.000000</td>\n",
       "      <td>0.606000</td>\n",
       "      <td>0.000000e+00</td>\n",
       "      <td>0.535000</td>\n",
       "      <td>-0.910000</td>\n",
       "      <td>0.031100</td>\n",
       "      <td>87.889000</td>\n",
       "      <td>0.513000</td>\n",
       "      <td>0.000000</td>\n",
       "      <td>0</td>\n",
       "      <td>1</td>\n",
       "      <td>2</td>\n",
       "    </tr>\n",
       "    <tr>\n",
       "      <th>19264</th>\n",
       "      <td>['psychedelic folk']</td>\n",
       "      <td>Paul Kantner</td>\n",
       "      <td>0.391667</td>\n",
       "      <td>0.453667</td>\n",
       "      <td>253359.666667</td>\n",
       "      <td>0.300000</td>\n",
       "      <td>3.607193e-01</td>\n",
       "      <td>0.358667</td>\n",
       "      <td>-17.235000</td>\n",
       "      <td>0.030767</td>\n",
       "      <td>91.252667</td>\n",
       "      <td>0.325667</td>\n",
       "      <td>32.000000</td>\n",
       "      <td>5</td>\n",
       "      <td>1</td>\n",
       "      <td>3</td>\n",
       "    </tr>\n",
       "    <tr>\n",
       "      <th>19671</th>\n",
       "      <td>[]</td>\n",
       "      <td>Phiroz J Bhagalia</td>\n",
       "      <td>0.980500</td>\n",
       "      <td>0.692000</td>\n",
       "      <td>190236.000000</td>\n",
       "      <td>0.229500</td>\n",
       "      <td>7.040000e-04</td>\n",
       "      <td>0.345500</td>\n",
       "      <td>-7.739000</td>\n",
       "      <td>0.577500</td>\n",
       "      <td>140.062500</td>\n",
       "      <td>0.813000</td>\n",
       "      <td>0.000000</td>\n",
       "      <td>11</td>\n",
       "      <td>1</td>\n",
       "      <td>4</td>\n",
       "    </tr>\n",
       "    <tr>\n",
       "      <th>22622</th>\n",
       "      <td>['british soul', 'dance rock', 'mellow gold', ...</td>\n",
       "      <td>Simply Red</td>\n",
       "      <td>0.320255</td>\n",
       "      <td>0.703048</td>\n",
       "      <td>268408.190476</td>\n",
       "      <td>0.655619</td>\n",
       "      <td>3.336688e-02</td>\n",
       "      <td>0.126348</td>\n",
       "      <td>-7.868238</td>\n",
       "      <td>0.032224</td>\n",
       "      <td>103.165429</td>\n",
       "      <td>0.657095</td>\n",
       "      <td>48.619048</td>\n",
       "      <td>9</td>\n",
       "      <td>1</td>\n",
       "      <td>42</td>\n",
       "    </tr>\n",
       "    <tr>\n",
       "      <th>20681</th>\n",
       "      <td>[]</td>\n",
       "      <td>Renan Garcia</td>\n",
       "      <td>0.916167</td>\n",
       "      <td>0.441333</td>\n",
       "      <td>162239.000000</td>\n",
       "      <td>0.369000</td>\n",
       "      <td>2.939160e-02</td>\n",
       "      <td>0.179167</td>\n",
       "      <td>-8.483333</td>\n",
       "      <td>0.036767</td>\n",
       "      <td>106.685667</td>\n",
       "      <td>0.561167</td>\n",
       "      <td>0.000000</td>\n",
       "      <td>3</td>\n",
       "      <td>1</td>\n",
       "      <td>6</td>\n",
       "    </tr>\n",
       "    <tr>\n",
       "      <th>2091</th>\n",
       "      <td>[]</td>\n",
       "      <td>Banda Coloso</td>\n",
       "      <td>0.148000</td>\n",
       "      <td>0.550000</td>\n",
       "      <td>214410.500000</td>\n",
       "      <td>0.597500</td>\n",
       "      <td>9.100000e-07</td>\n",
       "      <td>0.482000</td>\n",
       "      <td>-6.756000</td>\n",
       "      <td>0.066900</td>\n",
       "      <td>135.218000</td>\n",
       "      <td>0.860000</td>\n",
       "      <td>68.500000</td>\n",
       "      <td>2</td>\n",
       "      <td>1</td>\n",
       "      <td>4</td>\n",
       "    </tr>\n",
       "    <tr>\n",
       "      <th>8310</th>\n",
       "      <td>['alternative emo', 'anthem emo', 'easycore', ...</td>\n",
       "      <td>Four Year Strong</td>\n",
       "      <td>0.006975</td>\n",
       "      <td>0.471600</td>\n",
       "      <td>197232.000000</td>\n",
       "      <td>0.966000</td>\n",
       "      <td>3.830000e-05</td>\n",
       "      <td>0.410400</td>\n",
       "      <td>-4.327000</td>\n",
       "      <td>0.151000</td>\n",
       "      <td>129.911800</td>\n",
       "      <td>0.463400</td>\n",
       "      <td>44.600000</td>\n",
       "      <td>5</td>\n",
       "      <td>1</td>\n",
       "      <td>10</td>\n",
       "    </tr>\n",
       "  </tbody>\n",
       "</table>\n",
       "</div>"
      ],
      "text/plain": [
       "                                                  genres  \\\n",
       "25421  ['alternative rock', 'art punk', 'dance rock',...   \n",
       "11901                                                 []   \n",
       "20641                                                 []   \n",
       "22268  ['arabic hip hop', 'middle east hip hop', 'pal...   \n",
       "19264                               ['psychedelic folk']   \n",
       "19671                                                 []   \n",
       "22622  ['british soul', 'dance rock', 'mellow gold', ...   \n",
       "20681                                                 []   \n",
       "2091                                                  []   \n",
       "8310   ['alternative emo', 'anthem emo', 'easycore', ...   \n",
       "\n",
       "                             artists  acousticness  danceability  \\\n",
       "25421                  The Raincoats      0.319240      0.520750   \n",
       "11901                   Jim Steinman      0.151000      0.628000   \n",
       "20641  Reinhold Moritzewitsch Glière      0.812000      0.264000   \n",
       "22268                         Shadia      0.780000      0.351000   \n",
       "19264                   Paul Kantner      0.391667      0.453667   \n",
       "19671              Phiroz J Bhagalia      0.980500      0.692000   \n",
       "22622                     Simply Red      0.320255      0.703048   \n",
       "20681                   Renan Garcia      0.916167      0.441333   \n",
       "2091                    Banda Coloso      0.148000      0.550000   \n",
       "8310                Four Year Strong      0.006975      0.471600   \n",
       "\n",
       "         duration_ms    energy  instrumentalness  liveness   loudness  \\\n",
       "25421  191306.750000  0.725000      2.535675e-01  0.206550  -8.326875   \n",
       "11901  387267.000000  0.637000      1.090000e-03  0.262000 -13.175000   \n",
       "20641  202693.000000  0.459000      7.940000e-01  0.125000 -12.049000   \n",
       "22268  493796.000000  0.606000      0.000000e+00  0.535000  -0.910000   \n",
       "19264  253359.666667  0.300000      3.607193e-01  0.358667 -17.235000   \n",
       "19671  190236.000000  0.229500      7.040000e-04  0.345500  -7.739000   \n",
       "22622  268408.190476  0.655619      3.336688e-02  0.126348  -7.868238   \n",
       "20681  162239.000000  0.369000      2.939160e-02  0.179167  -8.483333   \n",
       "2091   214410.500000  0.597500      9.100000e-07  0.482000  -6.756000   \n",
       "8310   197232.000000  0.966000      3.830000e-05  0.410400  -4.327000   \n",
       "\n",
       "       speechiness       tempo   valence  popularity  key  mode  count  \n",
       "25421     0.111437  119.134500  0.643500   32.000000    9     1     16  \n",
       "11901     0.029400  110.447000  0.755000   37.000000    0     1      2  \n",
       "20641     0.037900   87.595000  0.571000   23.000000    2     0      1  \n",
       "22268     0.031100   87.889000  0.513000    0.000000    0     1      2  \n",
       "19264     0.030767   91.252667  0.325667   32.000000    5     1      3  \n",
       "19671     0.577500  140.062500  0.813000    0.000000   11     1      4  \n",
       "22622     0.032224  103.165429  0.657095   48.619048    9     1     42  \n",
       "20681     0.036767  106.685667  0.561167    0.000000    3     1      6  \n",
       "2091      0.066900  135.218000  0.860000   68.500000    2     1      4  \n",
       "8310      0.151000  129.911800  0.463400   44.600000    5     1     10  "
      ]
     },
     "execution_count": 6,
     "metadata": {},
     "output_type": "execute_result"
    }
   ],
   "source": [
    "df.sample(10)"
   ]
  },
  {
   "cell_type": "code",
   "execution_count": 7,
   "id": "d494fd09",
   "metadata": {
    "ExecuteTime": {
     "end_time": "2021-04-29T17:53:14.277288Z",
     "start_time": "2021-04-29T17:53:14.274365Z"
    }
   },
   "outputs": [],
   "source": [
    "# analyse columns\n",
    "# remove nans/outliers\n",
    "# duplicates\n",
    "# missing vals\n",
    "# 12 per major/minor"
   ]
  },
  {
   "cell_type": "code",
   "execution_count": null,
   "id": "a8a8e2be",
   "metadata": {},
   "outputs": [],
   "source": []
  },
  {
   "cell_type": "code",
   "execution_count": null,
   "id": "85c38009",
   "metadata": {},
   "outputs": [],
   "source": []
  },
  {
   "cell_type": "code",
   "execution_count": null,
   "id": "97e76d53",
   "metadata": {},
   "outputs": [],
   "source": []
  },
  {
   "cell_type": "code",
   "execution_count": null,
   "id": "132bf1c7",
   "metadata": {},
   "outputs": [],
   "source": []
  },
  {
   "cell_type": "markdown",
   "id": "984379e0",
   "metadata": {},
   "source": [
    "# Model"
   ]
  },
  {
   "cell_type": "code",
   "execution_count": null,
   "id": "3e666a6a",
   "metadata": {},
   "outputs": [],
   "source": [
    "# Define X and y\n",
    "X = df.drop(columns=['name','artists']) #Remove non numerical features\n",
    "y = df['tempo']\n",
    "\n",
    "knn_model = KNeighborsRegressor().fit(X,y) # Instanciate and train model"
   ]
  },
  {
   "cell_type": "code",
   "execution_count": null,
   "id": "26ce937f",
   "metadata": {},
   "outputs": [],
   "source": []
  },
  {
   "cell_type": "code",
   "execution_count": null,
   "id": "6294551e",
   "metadata": {},
   "outputs": [],
   "source": []
  },
  {
   "cell_type": "code",
   "execution_count": null,
   "id": "b923b722",
   "metadata": {},
   "outputs": [],
   "source": []
  },
  {
   "cell_type": "code",
   "execution_count": null,
   "id": "ff14cbb6",
   "metadata": {},
   "outputs": [],
   "source": []
  },
  {
   "cell_type": "code",
   "execution_count": null,
   "id": "e9fd6956",
   "metadata": {},
   "outputs": [],
   "source": []
  }
 ],
 "metadata": {
  "kernelspec": {
   "display_name": "Python 3",
   "language": "python",
   "name": "python3"
  },
  "language_info": {
   "codemirror_mode": {
    "name": "ipython",
    "version": 3
   },
   "file_extension": ".py",
   "mimetype": "text/x-python",
   "name": "python",
   "nbconvert_exporter": "python",
   "pygments_lexer": "ipython3",
   "version": "3.8.6"
  },
  "toc": {
   "base_numbering": 1,
   "nav_menu": {},
   "number_sections": true,
   "sideBar": true,
   "skip_h1_title": false,
   "title_cell": "Table of Contents",
   "title_sidebar": "Contents",
   "toc_cell": false,
   "toc_position": {},
   "toc_section_display": true,
   "toc_window_display": false
  }
 },
 "nbformat": 4,
 "nbformat_minor": 5
}
